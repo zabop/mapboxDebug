{
 "cells": [
  {
   "cell_type": "code",
   "execution_count": 2,
   "metadata": {},
   "outputs": [],
   "source": [
    "import imageio.v3 as iio\n",
    "import numpy as np\n",
    "\n",
    "!rm -rf webps\n",
    "!mkdir webps\n",
    "for r in range(256):\n",
    "    # 256 is the largest integer which doesn't cause the script to crash, as expected\n",
    "\n",
    "    R = np.ones((256, 256), dtype=np.uint8)*r\n",
    "    G = np.zeros(R.shape, dtype=np.uint8)\n",
    "    B = np.zeros(R.shape, dtype=np.uint8)\n",
    "\n",
    "    dst = np.dstack([R, G, B])\n",
    "\n",
    "    iio.imwrite(f\"webps/R{r:03}.webp\", dst, extension=\".webp\", lossless=True)"
   ]
  }
 ],
 "metadata": {
  "kernelspec": {
   "display_name": "dev311_2",
   "language": "python",
   "name": "dev311_2"
  },
  "language_info": {
   "codemirror_mode": {
    "name": "ipython",
    "version": 3
   },
   "file_extension": ".py",
   "mimetype": "text/x-python",
   "name": "python",
   "nbconvert_exporter": "python",
   "pygments_lexer": "ipython3",
   "version": "3.11.9"
  }
 },
 "nbformat": 4,
 "nbformat_minor": 2
}
